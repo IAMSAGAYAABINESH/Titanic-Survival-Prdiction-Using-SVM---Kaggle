{
 "cells": [
  {
   "cell_type": "markdown",
   "id": "420f197c",
   "metadata": {
    "papermill": {
     "duration": 0.008776,
     "end_time": "2023-06-04T14:37:21.859377",
     "exception": false,
     "start_time": "2023-06-04T14:37:21.850601",
     "status": "completed"
    },
    "tags": []
   },
   "source": [
    "# **Importing The Libraries**"
   ]
  },
  {
   "cell_type": "markdown",
   "id": "8b5c5183",
   "metadata": {
    "papermill": {
     "duration": 0.007579,
     "end_time": "2023-06-04T14:37:21.875158",
     "exception": false,
     "start_time": "2023-06-04T14:37:21.867579",
     "status": "completed"
    },
    "tags": []
   },
   "source": [
    "**Pandas**: Pandas is a Python library for data manipulation and analysis, offering easy-to-use data structures and tools for working with structured data.\n",
    "\n",
    "**NumPy**: NumPy is a Python library for numerical computing with powerful array objects and mathematical functions.\n",
    "\n",
    "**scikit-learn**: scikit-learn is a Python library for machine learning tasks, providing various algorithms and tools for classification, regression, clustering, and more.\n",
    "\n",
    "**Matplotlib**: Matplotlib is a Python library for creating static and interactive visualizations, offering a comprehensive set of plotting functions for data exploration and presentation."
   ]
  },
  {
   "cell_type": "code",
   "execution_count": 1,
   "id": "6223f0b8",
   "metadata": {
    "execution": {
     "iopub.execute_input": "2023-06-04T14:37:21.893959Z",
     "iopub.status.busy": "2023-06-04T14:37:21.892582Z",
     "iopub.status.idle": "2023-06-04T14:37:23.149376Z",
     "shell.execute_reply": "2023-06-04T14:37:23.148470Z"
    },
    "id": "z7iQ5h-O7c6j",
    "papermill": {
     "duration": 1.268994,
     "end_time": "2023-06-04T14:37:23.152162",
     "exception": false,
     "start_time": "2023-06-04T14:37:21.883168",
     "status": "completed"
    },
    "tags": []
   },
   "outputs": [
    {
     "name": "stderr",
     "output_type": "stream",
     "text": [
      "/opt/conda/lib/python3.10/site-packages/scipy/__init__.py:146: UserWarning: A NumPy version >=1.16.5 and <1.23.0 is required for this version of SciPy (detected version 1.23.5\n",
      "  warnings.warn(f\"A NumPy version >={np_minversion} and <{np_maxversion}\"\n"
     ]
    }
   ],
   "source": [
    "import pandas as pd\n",
    "import numpy as np\n",
    "import sklearn\n",
    "import matplotlib as plt"
   ]
  },
  {
   "cell_type": "markdown",
   "id": "455da2c9",
   "metadata": {
    "papermill": {
     "duration": 0.00782,
     "end_time": "2023-06-04T14:37:23.168236",
     "exception": false,
     "start_time": "2023-06-04T14:37:23.160416",
     "status": "completed"
    },
    "tags": []
   },
   "source": [
    "#  **Importing  The Training Dataset**"
   ]
  },
  {
   "cell_type": "code",
   "execution_count": 2,
   "id": "61d23496",
   "metadata": {
    "execution": {
     "iopub.execute_input": "2023-06-04T14:37:23.185969Z",
     "iopub.status.busy": "2023-06-04T14:37:23.185558Z",
     "iopub.status.idle": "2023-06-04T14:37:23.246687Z",
     "shell.execute_reply": "2023-06-04T14:37:23.245529Z"
    },
    "id": "sIU47S-474D1",
    "outputId": "b0b72241-7e17-4147-e11b-2ad7a6d73d37",
    "papermill": {
     "duration": 0.073553,
     "end_time": "2023-06-04T14:37:23.249596",
     "exception": false,
     "start_time": "2023-06-04T14:37:23.176043",
     "status": "completed"
    },
    "tags": []
   },
   "outputs": [
    {
     "data": {
      "text/html": [
       "<div>\n",
       "<style scoped>\n",
       "    .dataframe tbody tr th:only-of-type {\n",
       "        vertical-align: middle;\n",
       "    }\n",
       "\n",
       "    .dataframe tbody tr th {\n",
       "        vertical-align: top;\n",
       "    }\n",
       "\n",
       "    .dataframe thead th {\n",
       "        text-align: right;\n",
       "    }\n",
       "</style>\n",
       "<table border=\"1\" class=\"dataframe\">\n",
       "  <thead>\n",
       "    <tr style=\"text-align: right;\">\n",
       "      <th></th>\n",
       "      <th>PassengerId</th>\n",
       "      <th>Survived</th>\n",
       "      <th>Pclass</th>\n",
       "      <th>Name</th>\n",
       "      <th>Sex</th>\n",
       "      <th>Age</th>\n",
       "      <th>SibSp</th>\n",
       "      <th>Parch</th>\n",
       "      <th>Ticket</th>\n",
       "      <th>Fare</th>\n",
       "      <th>Cabin</th>\n",
       "      <th>Embarked</th>\n",
       "    </tr>\n",
       "  </thead>\n",
       "  <tbody>\n",
       "    <tr>\n",
       "      <th>0</th>\n",
       "      <td>1</td>\n",
       "      <td>0</td>\n",
       "      <td>3</td>\n",
       "      <td>Braund, Mr. Owen Harris</td>\n",
       "      <td>male</td>\n",
       "      <td>22.0</td>\n",
       "      <td>1</td>\n",
       "      <td>0</td>\n",
       "      <td>A/5 21171</td>\n",
       "      <td>7.2500</td>\n",
       "      <td>NaN</td>\n",
       "      <td>S</td>\n",
       "    </tr>\n",
       "    <tr>\n",
       "      <th>1</th>\n",
       "      <td>2</td>\n",
       "      <td>1</td>\n",
       "      <td>1</td>\n",
       "      <td>Cumings, Mrs. John Bradley (Florence Briggs Th...</td>\n",
       "      <td>female</td>\n",
       "      <td>38.0</td>\n",
       "      <td>1</td>\n",
       "      <td>0</td>\n",
       "      <td>PC 17599</td>\n",
       "      <td>71.2833</td>\n",
       "      <td>C85</td>\n",
       "      <td>C</td>\n",
       "    </tr>\n",
       "    <tr>\n",
       "      <th>2</th>\n",
       "      <td>3</td>\n",
       "      <td>1</td>\n",
       "      <td>3</td>\n",
       "      <td>Heikkinen, Miss. Laina</td>\n",
       "      <td>female</td>\n",
       "      <td>26.0</td>\n",
       "      <td>0</td>\n",
       "      <td>0</td>\n",
       "      <td>STON/O2. 3101282</td>\n",
       "      <td>7.9250</td>\n",
       "      <td>NaN</td>\n",
       "      <td>S</td>\n",
       "    </tr>\n",
       "    <tr>\n",
       "      <th>3</th>\n",
       "      <td>4</td>\n",
       "      <td>1</td>\n",
       "      <td>1</td>\n",
       "      <td>Futrelle, Mrs. Jacques Heath (Lily May Peel)</td>\n",
       "      <td>female</td>\n",
       "      <td>35.0</td>\n",
       "      <td>1</td>\n",
       "      <td>0</td>\n",
       "      <td>113803</td>\n",
       "      <td>53.1000</td>\n",
       "      <td>C123</td>\n",
       "      <td>S</td>\n",
       "    </tr>\n",
       "    <tr>\n",
       "      <th>4</th>\n",
       "      <td>5</td>\n",
       "      <td>0</td>\n",
       "      <td>3</td>\n",
       "      <td>Allen, Mr. William Henry</td>\n",
       "      <td>male</td>\n",
       "      <td>35.0</td>\n",
       "      <td>0</td>\n",
       "      <td>0</td>\n",
       "      <td>373450</td>\n",
       "      <td>8.0500</td>\n",
       "      <td>NaN</td>\n",
       "      <td>S</td>\n",
       "    </tr>\n",
       "  </tbody>\n",
       "</table>\n",
       "</div>"
      ],
      "text/plain": [
       "   PassengerId  Survived  Pclass  \\\n",
       "0            1         0       3   \n",
       "1            2         1       1   \n",
       "2            3         1       3   \n",
       "3            4         1       1   \n",
       "4            5         0       3   \n",
       "\n",
       "                                                Name     Sex   Age  SibSp  \\\n",
       "0                            Braund, Mr. Owen Harris    male  22.0      1   \n",
       "1  Cumings, Mrs. John Bradley (Florence Briggs Th...  female  38.0      1   \n",
       "2                             Heikkinen, Miss. Laina  female  26.0      0   \n",
       "3       Futrelle, Mrs. Jacques Heath (Lily May Peel)  female  35.0      1   \n",
       "4                           Allen, Mr. William Henry    male  35.0      0   \n",
       "\n",
       "   Parch            Ticket     Fare Cabin Embarked  \n",
       "0      0         A/5 21171   7.2500   NaN        S  \n",
       "1      0          PC 17599  71.2833   C85        C  \n",
       "2      0  STON/O2. 3101282   7.9250   NaN        S  \n",
       "3      0            113803  53.1000  C123        S  \n",
       "4      0            373450   8.0500   NaN        S  "
      ]
     },
     "execution_count": 2,
     "metadata": {},
     "output_type": "execute_result"
    }
   ],
   "source": [
    "train_data = pd.read_csv(\"/kaggle/input/titanic/train.csv\")\n",
    "train_data.head()"
   ]
  },
  {
   "cell_type": "markdown",
   "id": "29fe82ce",
   "metadata": {
    "papermill": {
     "duration": 0.008685,
     "end_time": "2023-06-04T14:37:23.266934",
     "exception": false,
     "start_time": "2023-06-04T14:37:23.258249",
     "status": "completed"
    },
    "tags": []
   },
   "source": [
    "# **Importing The Testing Dataset**"
   ]
  },
  {
   "cell_type": "code",
   "execution_count": 3,
   "id": "3e6ff7fe",
   "metadata": {
    "execution": {
     "iopub.execute_input": "2023-06-04T14:37:23.286718Z",
     "iopub.status.busy": "2023-06-04T14:37:23.286004Z",
     "iopub.status.idle": "2023-06-04T14:37:23.312977Z",
     "shell.execute_reply": "2023-06-04T14:37:23.311626Z"
    },
    "id": "HiVvdObp74Bn",
    "outputId": "3c9fecec-78ba-41f6-92b5-31adfd383ff7",
    "papermill": {
     "duration": 0.039978,
     "end_time": "2023-06-04T14:37:23.315585",
     "exception": false,
     "start_time": "2023-06-04T14:37:23.275607",
     "status": "completed"
    },
    "tags": []
   },
   "outputs": [
    {
     "data": {
      "text/html": [
       "<div>\n",
       "<style scoped>\n",
       "    .dataframe tbody tr th:only-of-type {\n",
       "        vertical-align: middle;\n",
       "    }\n",
       "\n",
       "    .dataframe tbody tr th {\n",
       "        vertical-align: top;\n",
       "    }\n",
       "\n",
       "    .dataframe thead th {\n",
       "        text-align: right;\n",
       "    }\n",
       "</style>\n",
       "<table border=\"1\" class=\"dataframe\">\n",
       "  <thead>\n",
       "    <tr style=\"text-align: right;\">\n",
       "      <th></th>\n",
       "      <th>PassengerId</th>\n",
       "      <th>Pclass</th>\n",
       "      <th>Name</th>\n",
       "      <th>Sex</th>\n",
       "      <th>Age</th>\n",
       "      <th>SibSp</th>\n",
       "      <th>Parch</th>\n",
       "      <th>Ticket</th>\n",
       "      <th>Fare</th>\n",
       "      <th>Cabin</th>\n",
       "      <th>Embarked</th>\n",
       "    </tr>\n",
       "  </thead>\n",
       "  <tbody>\n",
       "    <tr>\n",
       "      <th>0</th>\n",
       "      <td>892</td>\n",
       "      <td>3</td>\n",
       "      <td>Kelly, Mr. James</td>\n",
       "      <td>male</td>\n",
       "      <td>34.5</td>\n",
       "      <td>0</td>\n",
       "      <td>0</td>\n",
       "      <td>330911</td>\n",
       "      <td>7.8292</td>\n",
       "      <td>NaN</td>\n",
       "      <td>Q</td>\n",
       "    </tr>\n",
       "    <tr>\n",
       "      <th>1</th>\n",
       "      <td>893</td>\n",
       "      <td>3</td>\n",
       "      <td>Wilkes, Mrs. James (Ellen Needs)</td>\n",
       "      <td>female</td>\n",
       "      <td>47.0</td>\n",
       "      <td>1</td>\n",
       "      <td>0</td>\n",
       "      <td>363272</td>\n",
       "      <td>7.0000</td>\n",
       "      <td>NaN</td>\n",
       "      <td>S</td>\n",
       "    </tr>\n",
       "    <tr>\n",
       "      <th>2</th>\n",
       "      <td>894</td>\n",
       "      <td>2</td>\n",
       "      <td>Myles, Mr. Thomas Francis</td>\n",
       "      <td>male</td>\n",
       "      <td>62.0</td>\n",
       "      <td>0</td>\n",
       "      <td>0</td>\n",
       "      <td>240276</td>\n",
       "      <td>9.6875</td>\n",
       "      <td>NaN</td>\n",
       "      <td>Q</td>\n",
       "    </tr>\n",
       "    <tr>\n",
       "      <th>3</th>\n",
       "      <td>895</td>\n",
       "      <td>3</td>\n",
       "      <td>Wirz, Mr. Albert</td>\n",
       "      <td>male</td>\n",
       "      <td>27.0</td>\n",
       "      <td>0</td>\n",
       "      <td>0</td>\n",
       "      <td>315154</td>\n",
       "      <td>8.6625</td>\n",
       "      <td>NaN</td>\n",
       "      <td>S</td>\n",
       "    </tr>\n",
       "    <tr>\n",
       "      <th>4</th>\n",
       "      <td>896</td>\n",
       "      <td>3</td>\n",
       "      <td>Hirvonen, Mrs. Alexander (Helga E Lindqvist)</td>\n",
       "      <td>female</td>\n",
       "      <td>22.0</td>\n",
       "      <td>1</td>\n",
       "      <td>1</td>\n",
       "      <td>3101298</td>\n",
       "      <td>12.2875</td>\n",
       "      <td>NaN</td>\n",
       "      <td>S</td>\n",
       "    </tr>\n",
       "  </tbody>\n",
       "</table>\n",
       "</div>"
      ],
      "text/plain": [
       "   PassengerId  Pclass                                          Name     Sex  \\\n",
       "0          892       3                              Kelly, Mr. James    male   \n",
       "1          893       3              Wilkes, Mrs. James (Ellen Needs)  female   \n",
       "2          894       2                     Myles, Mr. Thomas Francis    male   \n",
       "3          895       3                              Wirz, Mr. Albert    male   \n",
       "4          896       3  Hirvonen, Mrs. Alexander (Helga E Lindqvist)  female   \n",
       "\n",
       "    Age  SibSp  Parch   Ticket     Fare Cabin Embarked  \n",
       "0  34.5      0      0   330911   7.8292   NaN        Q  \n",
       "1  47.0      1      0   363272   7.0000   NaN        S  \n",
       "2  62.0      0      0   240276   9.6875   NaN        Q  \n",
       "3  27.0      0      0   315154   8.6625   NaN        S  \n",
       "4  22.0      1      1  3101298  12.2875   NaN        S  "
      ]
     },
     "execution_count": 3,
     "metadata": {},
     "output_type": "execute_result"
    }
   ],
   "source": [
    "test_data = pd.read_csv(\"/kaggle/input/titanic/test.csv\")\n",
    "test_data.head()"
   ]
  },
  {
   "cell_type": "markdown",
   "id": "85014798",
   "metadata": {
    "papermill": {
     "duration": 0.008506,
     "end_time": "2023-06-04T14:37:23.333015",
     "exception": false,
     "start_time": "2023-06-04T14:37:23.324509",
     "status": "completed"
    },
    "tags": []
   },
   "source": [
    "# **Viewing The Columns Of The Training Dataset**"
   ]
  },
  {
   "cell_type": "code",
   "execution_count": 4,
   "id": "8fde1fca",
   "metadata": {
    "execution": {
     "iopub.execute_input": "2023-06-04T14:37:23.351893Z",
     "iopub.status.busy": "2023-06-04T14:37:23.351469Z",
     "iopub.status.idle": "2023-06-04T14:37:23.360015Z",
     "shell.execute_reply": "2023-06-04T14:37:23.358789Z"
    },
    "id": "dXriwJJD-JFd",
    "outputId": "5e9fe940-3dfe-472f-de35-ca308277cadc",
    "papermill": {
     "duration": 0.021042,
     "end_time": "2023-06-04T14:37:23.362499",
     "exception": false,
     "start_time": "2023-06-04T14:37:23.341457",
     "status": "completed"
    },
    "tags": []
   },
   "outputs": [
    {
     "data": {
      "text/plain": [
       "Index(['PassengerId', 'Survived', 'Pclass', 'Name', 'Sex', 'Age', 'SibSp',\n",
       "       'Parch', 'Ticket', 'Fare', 'Cabin', 'Embarked'],\n",
       "      dtype='object')"
      ]
     },
     "execution_count": 4,
     "metadata": {},
     "output_type": "execute_result"
    }
   ],
   "source": [
    "train_data.columns"
   ]
  },
  {
   "cell_type": "markdown",
   "id": "8ccb7e3a",
   "metadata": {
    "papermill": {
     "duration": 0.008321,
     "end_time": "2023-06-04T14:37:23.379545",
     "exception": false,
     "start_time": "2023-06-04T14:37:23.371224",
     "status": "completed"
    },
    "tags": []
   },
   "source": [
    "# **Viewing The Columns Of The Testing Dataset**"
   ]
  },
  {
   "cell_type": "code",
   "execution_count": 5,
   "id": "fc50424e",
   "metadata": {
    "execution": {
     "iopub.execute_input": "2023-06-04T14:37:23.399068Z",
     "iopub.status.busy": "2023-06-04T14:37:23.398653Z",
     "iopub.status.idle": "2023-06-04T14:37:23.406866Z",
     "shell.execute_reply": "2023-06-04T14:37:23.405443Z"
    },
    "id": "tqVcSrOa-Pbz",
    "outputId": "0f524eee-798c-491d-aca3-4d1f0f0d6ce0",
    "papermill": {
     "duration": 0.021067,
     "end_time": "2023-06-04T14:37:23.409334",
     "exception": false,
     "start_time": "2023-06-04T14:37:23.388267",
     "status": "completed"
    },
    "tags": []
   },
   "outputs": [
    {
     "data": {
      "text/plain": [
       "Index(['PassengerId', 'Pclass', 'Name', 'Sex', 'Age', 'SibSp', 'Parch',\n",
       "       'Ticket', 'Fare', 'Cabin', 'Embarked'],\n",
       "      dtype='object')"
      ]
     },
     "execution_count": 5,
     "metadata": {},
     "output_type": "execute_result"
    }
   ],
   "source": [
    "test_data.columns"
   ]
  },
  {
   "cell_type": "markdown",
   "id": "5dbd7ae0",
   "metadata": {
    "papermill": {
     "duration": 0.008581,
     "end_time": "2023-06-04T14:37:23.426939",
     "exception": false,
     "start_time": "2023-06-04T14:37:23.418358",
     "status": "completed"
    },
    "tags": []
   },
   "source": [
    "# **Splitting The Independent and dependent Variables**"
   ]
  },
  {
   "cell_type": "code",
   "execution_count": 6,
   "id": "e8e4cbae",
   "metadata": {
    "execution": {
     "iopub.execute_input": "2023-06-04T14:37:23.446133Z",
     "iopub.status.busy": "2023-06-04T14:37:23.445761Z",
     "iopub.status.idle": "2023-06-04T14:37:23.460359Z",
     "shell.execute_reply": "2023-06-04T14:37:23.459013Z"
    },
    "id": "PT_QIrIV73-R",
    "papermill": {
     "duration": 0.026986,
     "end_time": "2023-06-04T14:37:23.462711",
     "exception": false,
     "start_time": "2023-06-04T14:37:23.435725",
     "status": "completed"
    },
    "tags": []
   },
   "outputs": [],
   "source": [
    "x_train= train_data[['Pclass', 'Sex', 'SibSp',\n",
    "       'Parch',]]"
   ]
  },
  {
   "cell_type": "code",
   "execution_count": 7,
   "id": "4045b8b6",
   "metadata": {
    "execution": {
     "iopub.execute_input": "2023-06-04T14:37:23.482980Z",
     "iopub.status.busy": "2023-06-04T14:37:23.482114Z",
     "iopub.status.idle": "2023-06-04T14:37:23.487480Z",
     "shell.execute_reply": "2023-06-04T14:37:23.486281Z"
    },
    "id": "YVOB5QTm737C",
    "papermill": {
     "duration": 0.018289,
     "end_time": "2023-06-04T14:37:23.489884",
     "exception": false,
     "start_time": "2023-06-04T14:37:23.471595",
     "status": "completed"
    },
    "tags": []
   },
   "outputs": [],
   "source": [
    "y_train= train_data['Survived']"
   ]
  },
  {
   "cell_type": "markdown",
   "id": "8c810a26",
   "metadata": {
    "papermill": {
     "duration": 0.008359,
     "end_time": "2023-06-04T14:37:23.506902",
     "exception": false,
     "start_time": "2023-06-04T14:37:23.498543",
     "status": "completed"
    },
    "tags": []
   },
   "source": [
    "# **Encoding The  Categorical Variables Of The Training Data**"
   ]
  },
  {
   "cell_type": "code",
   "execution_count": 8,
   "id": "4acfea5d",
   "metadata": {
    "execution": {
     "iopub.execute_input": "2023-06-04T14:37:23.526320Z",
     "iopub.status.busy": "2023-06-04T14:37:23.525839Z",
     "iopub.status.idle": "2023-06-04T14:37:23.538267Z",
     "shell.execute_reply": "2023-06-04T14:37:23.537360Z"
    },
    "id": "dcganjiI734e",
    "papermill": {
     "duration": 0.024834,
     "end_time": "2023-06-04T14:37:23.540441",
     "exception": false,
     "start_time": "2023-06-04T14:37:23.515607",
     "status": "completed"
    },
    "tags": []
   },
   "outputs": [],
   "source": [
    "x_train = pd.get_dummies(x_train)"
   ]
  },
  {
   "cell_type": "code",
   "execution_count": 9,
   "id": "a7f5545a",
   "metadata": {
    "execution": {
     "iopub.execute_input": "2023-06-04T14:37:23.559982Z",
     "iopub.status.busy": "2023-06-04T14:37:23.559482Z",
     "iopub.status.idle": "2023-06-04T14:37:23.575407Z",
     "shell.execute_reply": "2023-06-04T14:37:23.574179Z"
    },
    "id": "iKFHNEnC731-",
    "outputId": "5892e1d9-7df2-40c9-e081-15e875ba3eb3",
    "papermill": {
     "duration": 0.028499,
     "end_time": "2023-06-04T14:37:23.577586",
     "exception": false,
     "start_time": "2023-06-04T14:37:23.549087",
     "status": "completed"
    },
    "tags": []
   },
   "outputs": [
    {
     "data": {
      "text/html": [
       "<div>\n",
       "<style scoped>\n",
       "    .dataframe tbody tr th:only-of-type {\n",
       "        vertical-align: middle;\n",
       "    }\n",
       "\n",
       "    .dataframe tbody tr th {\n",
       "        vertical-align: top;\n",
       "    }\n",
       "\n",
       "    .dataframe thead th {\n",
       "        text-align: right;\n",
       "    }\n",
       "</style>\n",
       "<table border=\"1\" class=\"dataframe\">\n",
       "  <thead>\n",
       "    <tr style=\"text-align: right;\">\n",
       "      <th></th>\n",
       "      <th>Pclass</th>\n",
       "      <th>SibSp</th>\n",
       "      <th>Parch</th>\n",
       "      <th>Sex_female</th>\n",
       "      <th>Sex_male</th>\n",
       "    </tr>\n",
       "  </thead>\n",
       "  <tbody>\n",
       "    <tr>\n",
       "      <th>0</th>\n",
       "      <td>3</td>\n",
       "      <td>1</td>\n",
       "      <td>0</td>\n",
       "      <td>0</td>\n",
       "      <td>1</td>\n",
       "    </tr>\n",
       "    <tr>\n",
       "      <th>1</th>\n",
       "      <td>1</td>\n",
       "      <td>1</td>\n",
       "      <td>0</td>\n",
       "      <td>1</td>\n",
       "      <td>0</td>\n",
       "    </tr>\n",
       "    <tr>\n",
       "      <th>2</th>\n",
       "      <td>3</td>\n",
       "      <td>0</td>\n",
       "      <td>0</td>\n",
       "      <td>1</td>\n",
       "      <td>0</td>\n",
       "    </tr>\n",
       "    <tr>\n",
       "      <th>3</th>\n",
       "      <td>1</td>\n",
       "      <td>1</td>\n",
       "      <td>0</td>\n",
       "      <td>1</td>\n",
       "      <td>0</td>\n",
       "    </tr>\n",
       "    <tr>\n",
       "      <th>4</th>\n",
       "      <td>3</td>\n",
       "      <td>0</td>\n",
       "      <td>0</td>\n",
       "      <td>0</td>\n",
       "      <td>1</td>\n",
       "    </tr>\n",
       "    <tr>\n",
       "      <th>...</th>\n",
       "      <td>...</td>\n",
       "      <td>...</td>\n",
       "      <td>...</td>\n",
       "      <td>...</td>\n",
       "      <td>...</td>\n",
       "    </tr>\n",
       "    <tr>\n",
       "      <th>886</th>\n",
       "      <td>2</td>\n",
       "      <td>0</td>\n",
       "      <td>0</td>\n",
       "      <td>0</td>\n",
       "      <td>1</td>\n",
       "    </tr>\n",
       "    <tr>\n",
       "      <th>887</th>\n",
       "      <td>1</td>\n",
       "      <td>0</td>\n",
       "      <td>0</td>\n",
       "      <td>1</td>\n",
       "      <td>0</td>\n",
       "    </tr>\n",
       "    <tr>\n",
       "      <th>888</th>\n",
       "      <td>3</td>\n",
       "      <td>1</td>\n",
       "      <td>2</td>\n",
       "      <td>1</td>\n",
       "      <td>0</td>\n",
       "    </tr>\n",
       "    <tr>\n",
       "      <th>889</th>\n",
       "      <td>1</td>\n",
       "      <td>0</td>\n",
       "      <td>0</td>\n",
       "      <td>0</td>\n",
       "      <td>1</td>\n",
       "    </tr>\n",
       "    <tr>\n",
       "      <th>890</th>\n",
       "      <td>3</td>\n",
       "      <td>0</td>\n",
       "      <td>0</td>\n",
       "      <td>0</td>\n",
       "      <td>1</td>\n",
       "    </tr>\n",
       "  </tbody>\n",
       "</table>\n",
       "<p>891 rows × 5 columns</p>\n",
       "</div>"
      ],
      "text/plain": [
       "     Pclass  SibSp  Parch  Sex_female  Sex_male\n",
       "0         3      1      0           0         1\n",
       "1         1      1      0           1         0\n",
       "2         3      0      0           1         0\n",
       "3         1      1      0           1         0\n",
       "4         3      0      0           0         1\n",
       "..      ...    ...    ...         ...       ...\n",
       "886       2      0      0           0         1\n",
       "887       1      0      0           1         0\n",
       "888       3      1      2           1         0\n",
       "889       1      0      0           0         1\n",
       "890       3      0      0           0         1\n",
       "\n",
       "[891 rows x 5 columns]"
      ]
     },
     "execution_count": 9,
     "metadata": {},
     "output_type": "execute_result"
    }
   ],
   "source": [
    "x_train"
   ]
  },
  {
   "cell_type": "markdown",
   "id": "f99022c5",
   "metadata": {
    "papermill": {
     "duration": 0.008676,
     "end_time": "2023-06-04T14:37:23.595413",
     "exception": false,
     "start_time": "2023-06-04T14:37:23.586737",
     "status": "completed"
    },
    "tags": []
   },
   "source": [
    "# **Encoding The Categorical Variables Of The Testing Data**"
   ]
  },
  {
   "cell_type": "code",
   "execution_count": 10,
   "id": "6dfa7aab",
   "metadata": {
    "execution": {
     "iopub.execute_input": "2023-06-04T14:37:23.615863Z",
     "iopub.status.busy": "2023-06-04T14:37:23.615083Z",
     "iopub.status.idle": "2023-06-04T14:37:23.625295Z",
     "shell.execute_reply": "2023-06-04T14:37:23.624107Z"
    },
    "id": "bTsvksmO73zW",
    "papermill": {
     "duration": 0.023703,
     "end_time": "2023-06-04T14:37:23.628101",
     "exception": false,
     "start_time": "2023-06-04T14:37:23.604398",
     "status": "completed"
    },
    "tags": []
   },
   "outputs": [],
   "source": [
    "x_test = pd.get_dummies(test_data[['Pclass', 'Sex', 'SibSp',\n",
    "       'Parch']])"
   ]
  },
  {
   "cell_type": "code",
   "execution_count": 11,
   "id": "260cdc1a",
   "metadata": {
    "execution": {
     "iopub.execute_input": "2023-06-04T14:37:23.650296Z",
     "iopub.status.busy": "2023-06-04T14:37:23.648911Z",
     "iopub.status.idle": "2023-06-04T14:37:23.662878Z",
     "shell.execute_reply": "2023-06-04T14:37:23.662067Z"
    },
    "id": "iH0dBiQqGgxT",
    "outputId": "038be575-0ead-4938-afb9-fdce9d330659",
    "papermill": {
     "duration": 0.0273,
     "end_time": "2023-06-04T14:37:23.665216",
     "exception": false,
     "start_time": "2023-06-04T14:37:23.637916",
     "status": "completed"
    },
    "tags": []
   },
   "outputs": [
    {
     "data": {
      "text/html": [
       "<div>\n",
       "<style scoped>\n",
       "    .dataframe tbody tr th:only-of-type {\n",
       "        vertical-align: middle;\n",
       "    }\n",
       "\n",
       "    .dataframe tbody tr th {\n",
       "        vertical-align: top;\n",
       "    }\n",
       "\n",
       "    .dataframe thead th {\n",
       "        text-align: right;\n",
       "    }\n",
       "</style>\n",
       "<table border=\"1\" class=\"dataframe\">\n",
       "  <thead>\n",
       "    <tr style=\"text-align: right;\">\n",
       "      <th></th>\n",
       "      <th>Pclass</th>\n",
       "      <th>SibSp</th>\n",
       "      <th>Parch</th>\n",
       "      <th>Sex_female</th>\n",
       "      <th>Sex_male</th>\n",
       "    </tr>\n",
       "  </thead>\n",
       "  <tbody>\n",
       "    <tr>\n",
       "      <th>0</th>\n",
       "      <td>3</td>\n",
       "      <td>0</td>\n",
       "      <td>0</td>\n",
       "      <td>0</td>\n",
       "      <td>1</td>\n",
       "    </tr>\n",
       "    <tr>\n",
       "      <th>1</th>\n",
       "      <td>3</td>\n",
       "      <td>1</td>\n",
       "      <td>0</td>\n",
       "      <td>1</td>\n",
       "      <td>0</td>\n",
       "    </tr>\n",
       "    <tr>\n",
       "      <th>2</th>\n",
       "      <td>2</td>\n",
       "      <td>0</td>\n",
       "      <td>0</td>\n",
       "      <td>0</td>\n",
       "      <td>1</td>\n",
       "    </tr>\n",
       "    <tr>\n",
       "      <th>3</th>\n",
       "      <td>3</td>\n",
       "      <td>0</td>\n",
       "      <td>0</td>\n",
       "      <td>0</td>\n",
       "      <td>1</td>\n",
       "    </tr>\n",
       "    <tr>\n",
       "      <th>4</th>\n",
       "      <td>3</td>\n",
       "      <td>1</td>\n",
       "      <td>1</td>\n",
       "      <td>1</td>\n",
       "      <td>0</td>\n",
       "    </tr>\n",
       "    <tr>\n",
       "      <th>...</th>\n",
       "      <td>...</td>\n",
       "      <td>...</td>\n",
       "      <td>...</td>\n",
       "      <td>...</td>\n",
       "      <td>...</td>\n",
       "    </tr>\n",
       "    <tr>\n",
       "      <th>413</th>\n",
       "      <td>3</td>\n",
       "      <td>0</td>\n",
       "      <td>0</td>\n",
       "      <td>0</td>\n",
       "      <td>1</td>\n",
       "    </tr>\n",
       "    <tr>\n",
       "      <th>414</th>\n",
       "      <td>1</td>\n",
       "      <td>0</td>\n",
       "      <td>0</td>\n",
       "      <td>1</td>\n",
       "      <td>0</td>\n",
       "    </tr>\n",
       "    <tr>\n",
       "      <th>415</th>\n",
       "      <td>3</td>\n",
       "      <td>0</td>\n",
       "      <td>0</td>\n",
       "      <td>0</td>\n",
       "      <td>1</td>\n",
       "    </tr>\n",
       "    <tr>\n",
       "      <th>416</th>\n",
       "      <td>3</td>\n",
       "      <td>0</td>\n",
       "      <td>0</td>\n",
       "      <td>0</td>\n",
       "      <td>1</td>\n",
       "    </tr>\n",
       "    <tr>\n",
       "      <th>417</th>\n",
       "      <td>3</td>\n",
       "      <td>1</td>\n",
       "      <td>1</td>\n",
       "      <td>0</td>\n",
       "      <td>1</td>\n",
       "    </tr>\n",
       "  </tbody>\n",
       "</table>\n",
       "<p>418 rows × 5 columns</p>\n",
       "</div>"
      ],
      "text/plain": [
       "     Pclass  SibSp  Parch  Sex_female  Sex_male\n",
       "0         3      0      0           0         1\n",
       "1         3      1      0           1         0\n",
       "2         2      0      0           0         1\n",
       "3         3      0      0           0         1\n",
       "4         3      1      1           1         0\n",
       "..      ...    ...    ...         ...       ...\n",
       "413       3      0      0           0         1\n",
       "414       1      0      0           1         0\n",
       "415       3      0      0           0         1\n",
       "416       3      0      0           0         1\n",
       "417       3      1      1           0         1\n",
       "\n",
       "[418 rows x 5 columns]"
      ]
     },
     "execution_count": 11,
     "metadata": {},
     "output_type": "execute_result"
    }
   ],
   "source": [
    "x_test"
   ]
  },
  {
   "cell_type": "markdown",
   "id": "53731c40",
   "metadata": {
    "papermill": {
     "duration": 0.009545,
     "end_time": "2023-06-04T14:37:23.684872",
     "exception": false,
     "start_time": "2023-06-04T14:37:23.675327",
     "status": "completed"
    },
    "tags": []
   },
   "source": [
    "# **Developing The Machine Learning SVM Classification Model**"
   ]
  },
  {
   "cell_type": "code",
   "execution_count": 12,
   "id": "2bee2062",
   "metadata": {
    "execution": {
     "iopub.execute_input": "2023-06-04T14:37:23.707923Z",
     "iopub.status.busy": "2023-06-04T14:37:23.707272Z",
     "iopub.status.idle": "2023-06-04T14:37:24.028426Z",
     "shell.execute_reply": "2023-06-04T14:37:24.026804Z"
    },
    "id": "mjtObF7FGguT",
    "outputId": "6b27627a-adfa-4726-fcad-792e82a7b4d0",
    "papermill": {
     "duration": 0.335916,
     "end_time": "2023-06-04T14:37:24.031556",
     "exception": false,
     "start_time": "2023-06-04T14:37:23.695640",
     "status": "completed"
    },
    "tags": []
   },
   "outputs": [
    {
     "name": "stdout",
     "output_type": "stream",
     "text": [
      "[0 1 0 0 1 0 1 0 1 0 0 0 1 0 1 1 0 0 1 1 0 0 1 0 1 0 1 0 0 0 0 0 1 1 0 0 1\n",
      " 1 0 0 0 0 0 1 1 0 0 0 1 1 0 0 1 1 0 0 0 0 0 1 0 0 0 1 0 1 1 0 0 1 1 0 1 0\n",
      " 1 0 0 1 0 1 0 0 0 0 0 0 1 1 1 0 1 0 1 0 0 0 1 0 1 0 1 0 0 0 1 0 0 0 0 0 0\n",
      " 1 1 1 1 0 0 1 0 1 1 0 1 0 0 1 0 1 0 0 0 0 0 0 0 0 0 0 1 0 0 1 0 0 0 0 0 0\n",
      " 0 0 1 0 0 1 0 0 1 1 0 1 1 0 1 0 0 1 0 0 1 1 0 0 0 0 0 1 1 0 1 1 0 0 1 0 1\n",
      " 0 1 0 0 0 0 0 0 0 0 0 0 1 0 1 1 0 0 1 0 0 1 0 1 0 0 0 0 1 0 0 1 0 1 0 1 0\n",
      " 1 0 1 1 0 1 0 0 0 1 0 0 0 0 0 0 1 1 1 1 0 0 0 0 1 0 1 1 1 0 0 0 0 0 0 0 1\n",
      " 0 0 0 1 1 0 0 0 0 1 0 0 0 1 1 0 1 0 0 0 0 1 0 1 1 1 0 0 0 0 0 0 1 0 0 0 0\n",
      " 1 0 0 0 0 0 0 0 1 1 0 0 0 1 0 0 0 1 1 1 0 0 0 0 0 0 0 0 1 0 1 0 0 0 1 0 0\n",
      " 1 0 0 0 0 0 0 0 0 0 1 0 1 0 1 0 1 1 0 0 0 1 0 1 0 0 1 0 1 1 0 1 0 0 1 1 0\n",
      " 0 1 0 0 1 1 1 0 0 0 0 0 1 1 0 1 0 0 0 0 0 1 0 0 0 1 0 1 0 0 1 0 1 0 0 0 0\n",
      " 0 1 1 1 1 1 0 1 0 0 0]\n"
     ]
    }
   ],
   "source": [
    "from sklearn.svm import SVC\n",
    "classifier = SVC(kernel='rbf', random_state=0)\n",
    "classifier.fit(x_train, y_train)\n",
    "predictions = classifier.predict(x_test)\n",
    "print(predictions)"
   ]
  },
  {
   "cell_type": "markdown",
   "id": "142ab350",
   "metadata": {
    "papermill": {
     "duration": 0.009199,
     "end_time": "2023-06-04T14:37:24.050477",
     "exception": false,
     "start_time": "2023-06-04T14:37:24.041278",
     "status": "completed"
    },
    "tags": []
   },
   "source": [
    "***Here we use a scikit-learn's SVM classifier with an RBF kernel to train a model on the provided training data. It then applies the trained model to predict the labels for the test data and prints the resulting predictions.***"
   ]
  },
  {
   "cell_type": "markdown",
   "id": "d151da08",
   "metadata": {
    "papermill": {
     "duration": 0.009252,
     "end_time": "2023-06-04T14:37:24.069344",
     "exception": false,
     "start_time": "2023-06-04T14:37:24.060092",
     "status": "completed"
    },
    "tags": []
   },
   "source": [
    "# **Finally We Save the Predictions In A CSV File!**"
   ]
  },
  {
   "cell_type": "code",
   "execution_count": 13,
   "id": "6a90a66d",
   "metadata": {
    "execution": {
     "iopub.execute_input": "2023-06-04T14:37:24.091268Z",
     "iopub.status.busy": "2023-06-04T14:37:24.090494Z",
     "iopub.status.idle": "2023-06-04T14:37:24.104774Z",
     "shell.execute_reply": "2023-06-04T14:37:24.103326Z"
    },
    "id": "R45VhPRUGgg6",
    "papermill": {
     "duration": 0.028591,
     "end_time": "2023-06-04T14:37:24.107631",
     "exception": false,
     "start_time": "2023-06-04T14:37:24.079040",
     "status": "completed"
    },
    "tags": []
   },
   "outputs": [],
   "source": [
    "output = pd.DataFrame({'PassengerId': test_data.PassengerId, 'Survived': predictions})\n",
    "output.to_csv('submission.csv', index=False)"
   ]
  },
  {
   "cell_type": "markdown",
   "id": "d90c6d38",
   "metadata": {
    "papermill": {
     "duration": 0.009161,
     "end_time": "2023-06-04T14:37:24.126587",
     "exception": false,
     "start_time": "2023-06-04T14:37:24.117426",
     "status": "completed"
    },
    "tags": []
   },
   "source": [
    "**Pls do Upvote And Share!**\n",
    "# ☺\n"
   ]
  },
  {
   "cell_type": "markdown",
   "id": "630db085",
   "metadata": {
    "papermill": {
     "duration": 0.009275,
     "end_time": "2023-06-04T14:37:24.145456",
     "exception": false,
     "start_time": "2023-06-04T14:37:24.136181",
     "status": "completed"
    },
    "tags": []
   },
   "source": [
    "# **HAPPY KAGGLING! :)**"
   ]
  }
 ],
 "metadata": {
  "kernelspec": {
   "display_name": "Python 3",
   "language": "python",
   "name": "python3"
  },
  "language_info": {
   "codemirror_mode": {
    "name": "ipython",
    "version": 3
   },
   "file_extension": ".py",
   "mimetype": "text/x-python",
   "name": "python",
   "nbconvert_exporter": "python",
   "pygments_lexer": "ipython3",
   "version": "3.10.10"
  },
  "papermill": {
   "default_parameters": {},
   "duration": 19.505564,
   "end_time": "2023-06-04T14:37:26.570888",
   "environment_variables": {},
   "exception": null,
   "input_path": "__notebook__.ipynb",
   "output_path": "__notebook__.ipynb",
   "parameters": {},
   "start_time": "2023-06-04T14:37:07.065324",
   "version": "2.4.0"
  }
 },
 "nbformat": 4,
 "nbformat_minor": 5
}
